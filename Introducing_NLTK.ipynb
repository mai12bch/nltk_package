{
 "metadata": {
  "name": "",
  "signature": "sha256:01af85f1fe88fad4070974bf996f4af34597b9308f56301e5057d003e2ed01ac"
 },
 "nbformat": 3,
 "nbformat_minor": 0,
 "worksheets": [
  {
   "cells": [
    {
     "cell_type": "heading",
     "level": 1,
     "metadata": {},
     "source": [
      "Learning the basics of Natural Language Toolkit (NLTK)\n",
      "\n"
     ]
    },
    {
     "cell_type": "heading",
     "level": 1,
     "metadata": {},
     "source": [
      "Installing NLTK "
     ]
    },
    {
     "cell_type": "raw",
     "metadata": {},
     "source": [
      "This notebook has a few dependencies that can be installed via the python package manager -pip \n",
      "    \n",
      "    1. Python 3.0 or higher \n",
      "    2. NLTK \n",
      "    3. NLTK corpora\n",
      "\n",
      "If Python and pip are installed, you can install NLTK as follows:\n",
      "\n",
      "    ~$ pip install nltk \n",
      "    "
     ]
    },
    {
     "cell_type": "markdown",
     "metadata": {},
     "source": [
      "Getting started. Before starting is good to install the nltk.data which contains many corpora, toy grammars, trained models, etc. \n",
      "Installation: at http://nltk.org/nltk_data/"
     ]
    },
    {
     "cell_type": "code",
     "collapsed": false,
     "input": [
      "import nltk"
     ],
     "language": "python",
     "metadata": {},
     "outputs": [],
     "prompt_number": 19
    },
    {
     "cell_type": "code",
     "collapsed": false,
     "input": [
      "nltk.download()"
     ],
     "language": "python",
     "metadata": {},
     "outputs": []
    },
    {
     "cell_type": "markdown",
     "metadata": {},
     "source": [
      "This will open up a window with which you can download various corpora and models to a specified location. Take note of the download directory."
     ]
    },
    {
     "cell_type": "heading",
     "level": 2,
     "metadata": {},
     "source": [
      "1. Preprocessing Text"
     ]
    },
    {
     "cell_type": "markdown",
     "metadata": {},
     "source": [
      "NLTK is a good tool at the processing of a Raw text - it provides some tools for deviding text into it's constituent parts: \n",
      "\n",
      "- sent_tokenize: a punkt sentence tokenizer \n",
      "    \n",
      "    The sent_tokenize devides a text into a list of sentences, by using an unsupervised algorithm to build a model for abbreviation words, collocations and words that start sentences. (Must be trained on a large collection of plaintext in the target language before it can be used) \n",
      "    \n",
      "    Punkt is designed to learn parameters (list of abbreviations, etc) unsupervised from a corpus similiar to the target domain. The pre-packaged models may therefore be unsuitable: -> PunktSentenceTokenizer(text) to learn parameters from the given text. \n",
      "    \n",
      "    \n",
      "- word_tokenize: a treebank tokenizer \n",
      "\n",
      "    The Treebank tokenizer that uses regular expressions to tokenize text as in PennTreebank. It assumes that the text has already been segmented into sentences, e.g. using first sent_tokenize() \n",
      "    \n",
      "    \n",
      "- pos_tag: a maximum entropy tagger trained on the Penn Treebank "
     ]
    },
    {
     "cell_type": "heading",
     "level": 3,
     "metadata": {},
     "source": [
      "Sentence tokenization \n"
     ]
    },
    {
     "cell_type": "markdown",
     "metadata": {},
     "source": [
      "What is tokenization ? \n",
      "\n",
      "- Tokenization is the process of breaking of a text up into sentences, words, phrases or other meaningful elements called tokens \n",
      "\n",
      "- The tokanizaion is the pre-processing of the text analysis "
     ]
    },
    {
     "cell_type": "markdown",
     "metadata": {},
     "source": [
      "Let's start with a short example of tokenizing a text in sentences. "
     ]
    },
    {
     "cell_type": "code",
     "collapsed": false,
     "input": [
      "text = \"It was a great day - said John. But it was almost going to rain\""
     ],
     "language": "python",
     "metadata": {},
     "outputs": [],
     "prompt_number": 9
    },
    {
     "cell_type": "markdown",
     "metadata": {},
     "source": [
      "Now we want to split the text in sentences. First we need to import the sentence tokenizing function and after that we can put the text as an argument "
     ]
    },
    {
     "cell_type": "code",
     "collapsed": false,
     "input": [
      "from nltk.tokenize import sent_tokenize "
     ],
     "language": "python",
     "metadata": {},
     "outputs": [],
     "prompt_number": 10
    },
    {
     "cell_type": "code",
     "collapsed": false,
     "input": [
      "sent_tokenize(text)"
     ],
     "language": "python",
     "metadata": {},
     "outputs": [
      {
       "metadata": {},
       "output_type": "pyout",
       "prompt_number": 11,
       "text": [
        "['It was a great day - said John.', 'But it was almost going to rain']"
       ]
      }
     ],
     "prompt_number": 11
    },
    {
     "cell_type": "code",
     "collapsed": false,
     "input": [
      "len(sent_tokenize(text))"
     ],
     "language": "python",
     "metadata": {},
     "outputs": [
      {
       "metadata": {},
       "output_type": "pyout",
       "prompt_number": 12,
       "text": [
        "2"
       ]
      }
     ],
     "prompt_number": 12
    },
    {
     "cell_type": "markdown",
     "metadata": {},
     "source": [
      "What about greek ? "
     ]
    },
    {
     "cell_type": "code",
     "collapsed": false,
     "input": [
      "greek_text = \"\u03a0\u03c1\u03bf\u03ca\u03c3\u03c4\u03bf\u03c1\u03b9\u03ba\u03bf\u03af \u03c0\u03bf\u03bb\u03b9\u03c4\u03b9\u03c3\u03bc\u03bf\u03af \u03ac\u03c1\u03c7\u03b9\u03c3\u03b1\u03bd \u03bd\u03b1 \u03b1\u03bd\u03b1\u03c0\u03c4\u03cd\u03c3\u03c3\u03bf\u03bd\u03c4\u03b1\u03b9 \u03c3\u03c4\u03b1 \u0392\u03bf\u03c5\u03bb\u03b3\u03b1\u03c1\u03b9\u03ba\u03ac \u03b5\u03b4\u03ac\u03c6\u03b7 \u03ba\u03b1\u03c4\u03ac \u03c4\u03b7 \u039d\u03b5\u03bf\u03bb\u03b9\u03b8\u03b9\u03ba\u03ae \u03c0\u03b5\u03c1\u03af\u03bf\u03b4\u03bf. \\\n",
      "\u0397 \u03b1\u03c1\u03c7\u03b1\u03af\u03b1 \u03b9\u03c3\u03c4\u03bf\u03c1\u03af\u03b1 \u03c4\u03b7\u03c2 \u03b3\u03bd\u03ce\u03c1\u03b9\u03c3\u03b5 \u03c4\u03b7\u03bd \u03c0\u03b1\u03c1\u03bf\u03c5\u03c3\u03af\u03b1 \u03c4\u03c9\u03bd \u0398\u03c1\u03b1\u03ba\u03ce\u03bd \u03ba\u03b1\u03b9 \u03b1\u03c1\u03b3\u03cc\u03c4\u03b5\u03c1\u03b1 \u03c4\u03c9\u03bd \u0395\u03bb\u03bb\u03ae\u03bd\u03c9\u03bd \u03ba\u03b1\u03b9 \u03c4\u03c9\u03bd \u03a1\u03c9\u03bc\u03b1\u03af\u03c9\u03bd.\""
     ],
     "language": "python",
     "metadata": {},
     "outputs": [],
     "prompt_number": 13
    },
    {
     "cell_type": "code",
     "collapsed": false,
     "input": [
      "k = sent_tokenize(greek_text)"
     ],
     "language": "python",
     "metadata": {},
     "outputs": [],
     "prompt_number": 14
    },
    {
     "cell_type": "code",
     "collapsed": false,
     "input": [
      "print(k[0])\n",
      "print(k[1])"
     ],
     "language": "python",
     "metadata": {},
     "outputs": [
      {
       "output_type": "stream",
       "stream": "stdout",
       "text": [
        "\u03a0\u03c1\u03bf\u03ca\u03c3\u03c4\u03bf\u03c1\u03b9\u03ba\u03bf\u03af \u03c0\u03bf\u03bb\u03b9\u03c4\u03b9\u03c3\u03bc\u03bf\u03af \u03ac\u03c1\u03c7\u03b9\u03c3\u03b1\u03bd \u03bd\u03b1 \u03b1\u03bd\u03b1\u03c0\u03c4\u03cd\u03c3\u03c3\u03bf\u03bd\u03c4\u03b1\u03b9 \u03c3\u03c4\u03b1 \u0392\u03bf\u03c5\u03bb\u03b3\u03b1\u03c1\u03b9\u03ba\u03ac \u03b5\u03b4\u03ac\u03c6\u03b7 \u03ba\u03b1\u03c4\u03ac \u03c4\u03b7 \u039d\u03b5\u03bf\u03bb\u03b9\u03b8\u03b9\u03ba\u03ae \u03c0\u03b5\u03c1\u03af\u03bf\u03b4\u03bf.\n",
        "\u0397 \u03b1\u03c1\u03c7\u03b1\u03af\u03b1 \u03b9\u03c3\u03c4\u03bf\u03c1\u03af\u03b1 \u03c4\u03b7\u03c2 \u03b3\u03bd\u03ce\u03c1\u03b9\u03c3\u03b5 \u03c4\u03b7\u03bd \u03c0\u03b1\u03c1\u03bf\u03c5\u03c3\u03af\u03b1 \u03c4\u03c9\u03bd \u0398\u03c1\u03b1\u03ba\u03ce\u03bd \u03ba\u03b1\u03b9 \u03b1\u03c1\u03b3\u03cc\u03c4\u03b5\u03c1\u03b1 \u03c4\u03c9\u03bd \u0395\u03bb\u03bb\u03ae\u03bd\u03c9\u03bd \u03ba\u03b1\u03b9 \u03c4\u03c9\u03bd \u03a1\u03c9\u03bc\u03b1\u03af\u03c9\u03bd.\n"
       ]
      }
     ],
     "prompt_number": 15
    },
    {
     "cell_type": "code",
     "collapsed": false,
     "input": [
      "len(k)"
     ],
     "language": "python",
     "metadata": {},
     "outputs": [
      {
       "metadata": {},
       "output_type": "pyout",
       "prompt_number": 16,
       "text": [
        "2"
       ]
      }
     ],
     "prompt_number": 16
    },
    {
     "cell_type": "markdown",
     "metadata": {},
     "source": [
      "The sent_tokinze is working with punctianiational signs. It is good for the most of the european languages. "
     ]
    },
    {
     "cell_type": "code",
     "collapsed": false,
     "input": [
      "spanish_text = \"Existen cuatro maneras de responder preguntas. \u00bfCu\u00e1les son esas cuatro maneras?\" "
     ],
     "language": "python",
     "metadata": {},
     "outputs": [],
     "prompt_number": 17
    },
    {
     "cell_type": "raw",
     "metadata": {},
     "source": [
      "In the nltk.data folder you can find under /tokenizer/punkt a various number of language tokenizers e.g. spanish.pickle "
     ]
    },
    {
     "cell_type": "code",
     "collapsed": false,
     "input": [
      "spanish_tokenizer = nltk.data.load(\"tokenizers/punkt/spanish.pickle\")\n",
      "spanish_tokenizer.tokenize(spanish_text)"
     ],
     "language": "python",
     "metadata": {},
     "outputs": [
      {
       "ename": "NameError",
       "evalue": "name 'nltk' is not defined",
       "output_type": "pyerr",
       "traceback": [
        "\u001b[0;31m---------------------------------------------------------------------------\u001b[0m\n\u001b[0;31mNameError\u001b[0m                                 Traceback (most recent call last)",
        "\u001b[0;32m<ipython-input-18-ba07760aab9f>\u001b[0m in \u001b[0;36m<module>\u001b[0;34m()\u001b[0m\n\u001b[0;32m----> 1\u001b[0;31m \u001b[0mspanish_tokenizer\u001b[0m \u001b[0;34m=\u001b[0m \u001b[0mnltk\u001b[0m\u001b[0;34m.\u001b[0m\u001b[0mdata\u001b[0m\u001b[0;34m.\u001b[0m\u001b[0mload\u001b[0m\u001b[0;34m(\u001b[0m\u001b[0;34m\"tokenizers/punkt/spanish.pickle\"\u001b[0m\u001b[0;34m)\u001b[0m\u001b[0;34m\u001b[0m\u001b[0m\n\u001b[0m\u001b[1;32m      2\u001b[0m \u001b[0mspanish_tokenizer\u001b[0m\u001b[0;34m.\u001b[0m\u001b[0mtokenize\u001b[0m\u001b[0;34m(\u001b[0m\u001b[0mspanish_text\u001b[0m\u001b[0;34m)\u001b[0m\u001b[0;34m\u001b[0m\u001b[0m\n",
        "\u001b[0;31mNameError\u001b[0m: name 'nltk' is not defined"
       ]
      }
     ],
     "prompt_number": 18
    },
    {
     "cell_type": "heading",
     "level": 3,
     "metadata": {},
     "source": [
      "Word tokenization"
     ]
    },
    {
     "cell_type": "code",
     "collapsed": false,
     "input": [
      "from nltk.tokenize import word_tokenize "
     ],
     "language": "python",
     "metadata": {},
     "outputs": [],
     "prompt_number": 21
    },
    {
     "cell_type": "code",
     "collapsed": false,
     "input": [
      "word_tokenize('Digital Hummanities')"
     ],
     "language": "python",
     "metadata": {},
     "outputs": [
      {
       "metadata": {},
       "output_type": "pyout",
       "prompt_number": 22,
       "text": [
        "['Digital', 'Hummanities']"
       ]
      }
     ],
     "prompt_number": 22
    },
    {
     "cell_type": "code",
     "collapsed": false,
     "input": [
      "tokens = word_tokenize('Digital Hummanities') \n",
      "tokens"
     ],
     "language": "python",
     "metadata": {},
     "outputs": [
      {
       "metadata": {},
       "output_type": "pyout",
       "prompt_number": 70,
       "text": [
        "['Digital', 'Hummanities']"
       ]
      }
     ],
     "prompt_number": 70
    },
    {
     "cell_type": "code",
     "collapsed": false,
     "input": [
      "len(tokens)"
     ],
     "language": "python",
     "metadata": {},
     "outputs": [
      {
       "metadata": {},
       "output_type": "pyout",
       "prompt_number": 71,
       "text": [
        "2"
       ]
      }
     ],
     "prompt_number": 71
    },
    {
     "cell_type": "raw",
     "metadata": {},
     "source": [
      "It works by separating words using spaces and punctuation. The function does not discard the punctuation. So after the word segmentation, we have to deal with the punctuation it. "
     ]
    },
    {
     "cell_type": "raw",
     "metadata": {},
     "source": [
      "Another try"
     ]
    },
    {
     "cell_type": "code",
     "collapsed": false,
     "input": [
      "word_tokenize(\"can't go home\")"
     ],
     "language": "python",
     "metadata": {},
     "outputs": []
    },
    {
     "cell_type": "markdown",
     "metadata": {},
     "source": [
      "In that example \"can't\" is separated, as \"ca\" and \"n't\".\n",
      "Alternative word tokenizers are the WordPunktTokenizer and PunktWordTokenizer. "
     ]
    },
    {
     "cell_type": "raw",
     "metadata": {},
     "source": [
      "WordPunktTokenizer splits all the punctuation into separate tokens"
     ]
    },
    {
     "cell_type": "code",
     "collapsed": false,
     "input": [
      "from nltk.tokenize import WordPunctTokenizer \n",
      "word_punct_tokenizer = WordPunctTokenizer()\n",
      "word_punct_tokenizer.tokenize(\"Can't jump today\")"
     ],
     "language": "python",
     "metadata": {},
     "outputs": [
      {
       "metadata": {},
       "output_type": "pyout",
       "prompt_number": 23,
       "text": [
        "['Can', \"'\", 't', 'jump', 'today']"
       ]
      }
     ],
     "prompt_number": 23
    },
    {
     "cell_type": "raw",
     "metadata": {},
     "source": [
      "PunktTokenizer splits on punctuation but keeps it within the word "
     ]
    },
    {
     "cell_type": "code",
     "collapsed": false,
     "input": [
      "from nltk.tokenize import PunktWordTokenizer \n",
      "punkt_word_tokenizer = PunktWordTokenizer()\n",
      "punkt_word_tokenizer.tokenize(\"Can't jump today\")"
     ],
     "language": "python",
     "metadata": {},
     "outputs": [
      {
       "metadata": {},
       "output_type": "pyout",
       "prompt_number": 24,
       "text": [
        "['Can', \"'t\", 'jump', 'today']"
       ]
      }
     ],
     "prompt_number": 24
    },
    {
     "cell_type": "heading",
     "level": 6,
     "metadata": {},
     "source": [
      "Quiz!"
     ]
    },
    {
     "cell_type": "raw",
     "metadata": {},
     "source": [
      "Import the german.txt in the texts.file and try to tokenize the sentences and the words using te german.pickle  \n",
      "\n"
     ]
    },
    {
     "cell_type": "code",
     "collapsed": false,
     "input": [
      "import nltk \n",
      "\n",
      "infile = open('texts/german.txt')\n",
      "text = infile.read()\n",
      "infile.close()\n",
      "\n",
      "\n",
      "# sentence tokenization  \n",
      "german_tokenizer = nltk.data.load(\"tokenizers/punkt/german.pickle\")\n",
      "sent = german_tokenizer.tokenize(text)\n",
      "\n",
      "# word tokenization \n",
      "for i in sent:\n",
      "    l = word_tokenize(i)\n",
      "    print (l)"
     ],
     "language": "python",
     "metadata": {},
     "outputs": [
      {
       "output_type": "stream",
       "stream": "stdout",
       "text": [
        "['Monty', 'Python', 'war', 'eine', 'britische', 'Komikergruppe', '.']\n",
        "['Sie', 'wurde', '1969', 'gegr\u00fcndet', 'und', 'hatte', 'ihre', 'Bl\u00fctezeit', 'in', 'den', '1970er', 'Jahren', ',', 'in', 'denen', 'die', 'Fernsehserie', 'Monty', 'Python\u2019s', 'Flying', 'Circus', 'und', 'mehrere', 'Kinofilme', ',', 'unter', 'anderem', 'Das', 'Leben', 'des', 'Brian', ',', 'entstanden', '.']\n",
        "['1983', 'l\u00f6ste', 'sich', 'die', 'Gruppe', 'vorerst', 'auf', '.']\n",
        "['Der', 'letzte', 'gemeinsame', 'Auftritt', 'aller', 'sechs', 'Mitglieder', 'fand', '1989', 'zur', 'Produktion', 'der', 'Jubil\u00e4umszusammenstellung', 'Parrot', 'Sketch', 'Not', 'Included', '\u2013', '20', 'Years', 'of', 'Monty', 'Python', 'statt', '.']\n",
        "['Nach', 'dem', 'Tod', 'von', 'Graham', 'Chapman', 'traten', 'die', 'verbliebenen', 'f\u00fcnf', 'Mitglieder', '2014', 'wieder', 'gemeinsam', 'auf', '(', 'wenngleich', 'ohne', 'neues', 'Material', ')', '.']\n",
        "['Mit', 'der', 'letzten', 'Show', 'am', '20', '.', 'Juli', '2014', 'l\u00f6ste', 'sich', 'die', 'Gruppe', 'auf', '.']\n",
        "['Ihr', 'humoristischer', 'Einfluss', 'gilt', 'bis', 'heute', 'als', 'wegweisend', 'und', 'wurde', 'von', 'zahlreichen', 'Komikern', 'adaptiert', 'und', 'weiterentwickelt', '.']\n"
       ]
      }
     ],
     "prompt_number": 25
    },
    {
     "cell_type": "heading",
     "level": 2,
     "metadata": {},
     "source": [
      "2. Part-of-speech tagging "
     ]
    },
    {
     "cell_type": "raw",
     "metadata": {},
     "source": [
      "Part-of-speech tagging is the process of converting a sentence in a list of words, grouping them into tuples (word,tag). \n",
      "The tag is a part-of-speech tag, which tells if the word is a noun, adjective, verb and so on. It is useful for grammar analysis and wowrd sense disambiguation. "
     ]
    },
    {
     "cell_type": "markdown",
     "metadata": {},
     "source": [
      "Default tagging: "
     ]
    },
    {
     "cell_type": "code",
     "collapsed": false,
     "input": [
      "text = word_tokenize(\"It was a sunny and warm day, so we went to the beach\")\n",
      "nltk.pos_tag(text)"
     ],
     "language": "python",
     "metadata": {},
     "outputs": [
      {
       "metadata": {},
       "output_type": "pyout",
       "prompt_number": 72,
       "text": [
        "[('It', 'PRP'),\n",
        " ('was', 'VBD'),\n",
        " ('a', 'DT'),\n",
        " ('sunny', 'JJ'),\n",
        " ('and', 'CC'),\n",
        " ('warm', 'NN'),\n",
        " ('day', 'NN'),\n",
        " (',', ','),\n",
        " ('so', 'RB'),\n",
        " ('we', 'PRP'),\n",
        " ('went', 'VBD'),\n",
        " ('to', 'TO'),\n",
        " ('the', 'DT'),\n",
        " ('beach', 'NN')]"
       ]
      }
     ],
     "prompt_number": 72
    },
    {
     "cell_type": "raw",
     "metadata": {},
     "source": [
      "The pos_tag uses the PennTreebank."
     ]
    },
    {
     "cell_type": "code",
     "collapsed": false,
     "input": [
      "text = \"Monty Python (sometimes known as The Pythons) were a British surreal comedy group who created \\\n",
      "their sketch comedy show Monty Python's Flying Circus,  th at first aired on the BBC on 5 October 1969.\"\n",
      "tokens = word_tokenize(text)\n",
      "\n",
      "nltk.pos_tag(tokens)"
     ],
     "language": "python",
     "metadata": {},
     "outputs": [
      {
       "metadata": {},
       "output_type": "pyout",
       "prompt_number": 28,
       "text": [
        "[('Monty', 'NN'),\n",
        " ('Python', 'NNP'),\n",
        " ('(', 'NNP'),\n",
        " ('sometimes', 'RB'),\n",
        " ('known', 'VBN'),\n",
        " ('as', 'IN'),\n",
        " ('The', 'DT'),\n",
        " ('Pythons', 'NNS'),\n",
        " (')', ':'),\n",
        " ('were', 'VBD'),\n",
        " ('a', 'DT'),\n",
        " ('British', 'JJ'),\n",
        " ('surreal', 'NN'),\n",
        " ('comedy', 'NN'),\n",
        " ('group', 'NN'),\n",
        " ('who', 'WP'),\n",
        " ('created', 'VBN'),\n",
        " ('their', 'PRP$'),\n",
        " ('sketch', 'NN'),\n",
        " ('comedy', 'NN'),\n",
        " ('show', 'NN'),\n",
        " ('Monty', 'NNP'),\n",
        " ('Python', 'NNP'),\n",
        " (\"'s\", 'POS'),\n",
        " ('Flying', 'NNP'),\n",
        " ('Circus', 'NNP'),\n",
        " (',', ','),\n",
        " ('th', 'NN'),\n",
        " ('at', 'IN'),\n",
        " ('first', 'JJ'),\n",
        " ('aired', 'VBN'),\n",
        " ('on', 'IN'),\n",
        " ('the', 'DT'),\n",
        " ('BBC', 'NNP'),\n",
        " ('on', 'IN'),\n",
        " ('5', 'CD'),\n",
        " ('October', 'NNP'),\n",
        " ('1969', 'CD'),\n",
        " ('.', '.')]"
       ]
      }
     ],
     "prompt_number": 28
    },
    {
     "cell_type": "raw",
     "metadata": {},
     "source": [
      "Another interesting function is the text.similar function. It takes a word \"w\" and find in a given corpus all the pairs \"w1\"w\"\"w2\" \n"
     ]
    },
    {
     "cell_type": "code",
     "collapsed": false,
     "input": [
      " text = nltk.Text(word.lower() for word in nltk.corpus.brown.words())\n",
      " text.similar('greek')"
     ],
     "language": "python",
     "metadata": {},
     "outputs": [
      {
       "output_type": "stream",
       "stream": "stdout",
       "text": [
        "the time history man af war water spirit english government public\n",
        "best weather table course congress society order america right\n"
       ]
      }
     ],
     "prompt_number": 26
    },
    {
     "cell_type": "markdown",
     "metadata": {},
     "source": [
      "Bigrams and -ngrams "
     ]
    },
    {
     "cell_type": "code",
     "collapsed": false,
     "input": [
      "bigram = nltk.bigrams(tokens)\n",
      "\n",
      "for i in bigram:\n",
      "    print (i)"
     ],
     "language": "python",
     "metadata": {},
     "outputs": [
      {
       "output_type": "stream",
       "stream": "stdout",
       "text": [
        "('Monty', 'Python')\n",
        "('Python', '(')\n",
        "('(', 'sometimes')\n",
        "('sometimes', 'known')\n",
        "('known', 'as')\n",
        "('as', 'The')\n",
        "('The', 'Pythons')\n",
        "('Pythons', ')')\n",
        "(')', 'were')\n",
        "('were', 'a')\n",
        "('a', 'British')\n",
        "('British', 'surreal')\n",
        "('surreal', 'comedy')\n",
        "('comedy', 'group')\n",
        "('group', 'who')\n",
        "('who', 'created')\n",
        "('created', 'their')\n",
        "('their', 'sketch')\n",
        "('sketch', 'comedy')\n",
        "('comedy', 'show')\n",
        "('show', 'Monty')\n",
        "('Monty', 'Python')\n",
        "('Python', \"'s\")\n",
        "(\"'s\", 'Flying')\n",
        "('Flying', 'Circus')\n",
        "('Circus', ',')\n",
        "(',', 'th')\n",
        "('th', 'at')\n",
        "('at', 'first')\n",
        "('first', 'aired')\n",
        "('aired', 'on')\n",
        "('on', 'the')\n",
        "('the', 'BBC')\n",
        "('BBC', 'on')\n",
        "('on', '5')\n",
        "('5', 'October')\n",
        "('October', '1969')\n",
        "('1969', '.')\n"
       ]
      }
     ],
     "prompt_number": 29
    },
    {
     "cell_type": "markdown",
     "metadata": {},
     "source": [
      "In the Nltk library there is a ngram module, which can be used for 3> ngrams \n"
     ]
    },
    {
     "cell_type": "code",
     "collapsed": false,
     "input": [
      "from nltk.util import ngrams \n",
      "n = 5 \n",
      "fgrams = ngrams(tokens,5)\n",
      "for i in fgrams:\n",
      "    print (i)"
     ],
     "language": "python",
     "metadata": {},
     "outputs": [
      {
       "output_type": "stream",
       "stream": "stdout",
       "text": [
        "('Monty', 'Python', '(', 'sometimes', 'known')\n",
        "('Python', '(', 'sometimes', 'known', 'as')\n",
        "('(', 'sometimes', 'known', 'as', 'The')\n",
        "('sometimes', 'known', 'as', 'The', 'Pythons')\n",
        "('known', 'as', 'The', 'Pythons', ')')\n",
        "('as', 'The', 'Pythons', ')', 'were')\n",
        "('The', 'Pythons', ')', 'were', 'a')\n",
        "('Pythons', ')', 'were', 'a', 'British')\n",
        "(')', 'were', 'a', 'British', 'surreal')\n",
        "('were', 'a', 'British', 'surreal', 'comedy')\n",
        "('a', 'British', 'surreal', 'comedy', 'group')\n",
        "('British', 'surreal', 'comedy', 'group', 'who')\n",
        "('surreal', 'comedy', 'group', 'who', 'created')\n",
        "('comedy', 'group', 'who', 'created', 'their')\n",
        "('group', 'who', 'created', 'their', 'sketch')\n",
        "('who', 'created', 'their', 'sketch', 'comedy')\n",
        "('created', 'their', 'sketch', 'comedy', 'show')\n",
        "('their', 'sketch', 'comedy', 'show', 'Monty')\n",
        "('sketch', 'comedy', 'show', 'Monty', 'Python')\n",
        "('comedy', 'show', 'Monty', 'Python', \"'s\")\n",
        "('show', 'Monty', 'Python', \"'s\", 'Flying')\n",
        "('Monty', 'Python', \"'s\", 'Flying', 'Circus')\n",
        "('Python', \"'s\", 'Flying', 'Circus', ',')\n",
        "(\"'s\", 'Flying', 'Circus', ',', 'th')\n",
        "('Flying', 'Circus', ',', 'th', 'at')\n",
        "('Circus', ',', 'th', 'at', 'first')\n",
        "(',', 'th', 'at', 'first', 'aired')\n",
        "('th', 'at', 'first', 'aired', 'on')\n",
        "('at', 'first', 'aired', 'on', 'the')\n",
        "('first', 'aired', 'on', 'the', 'BBC')\n",
        "('aired', 'on', 'the', 'BBC', 'on')\n",
        "('on', 'the', 'BBC', 'on', '5')\n",
        "('the', 'BBC', 'on', '5', 'October')\n",
        "('BBC', 'on', '5', 'October', '1969')\n",
        "('on', '5', 'October', '1969', '.')\n"
       ]
      }
     ],
     "prompt_number": 30
    },
    {
     "cell_type": "heading",
     "level": 2,
     "metadata": {},
     "source": [
      "3. Word frequencies "
     ]
    },
    {
     "cell_type": "markdown",
     "metadata": {},
     "source": [
      "NLTK can also be used to do basic calculations on word corpora (= large amounts of text), such as counting words and creating frequency tables. Let's try it out with excerpts from Wikipedia's article on Monty Python (which is stored in the file texts/english.txt)."
     ]
    },
    {
     "cell_type": "code",
     "collapsed": false,
     "input": [
      "import nltk\n",
      "tokens = word_tokenize(\"Monty Python (sometimes known as The Pythons) were a British surreal comedy group who created\\\n",
      "their sketch comedy show Monty Python's Flying Circus, that first aired on the BBC on 5 October 1969. Forty-five \\\n",
      "episodes were made over four series. The Python phenomenon developed from the television series into something larger \\\n",
      "in scope and impact, spawning touring stage shows, films, numerous albums, several books, and a stage musical. The \\\n",
      "group's influence on comedy has been compared to The Beatles' influence on music.\\\n",
      "Broadcast by the BBC between 1969 and 1974, Flying Circus was conceived, written and performed by its members Graham \\\n",
      "Chapman, John Cleese, Terry Gilliam, Eric Idle, Terry Jones, and Michael Palin. Loosely structured as a sketch show, \\\n",
      "but with an innovative stream-of-consciousness approach (aided by Gilliam's animation), it pushed the boundaries of \\\n",
      "what was acceptable in style and content. A self-contained comedy team responsible for both writing and performing \\\n",
      "their work, the Pythons had creative control which allowed them to experiment with form and content, discarding rules\\\n",
      "of television comedy. Their influence on British comedy has been apparent for years, while in North America it has \\\n",
      "coloured the work of cult performers from the early editions of Saturday Night Live through to more recent absurdist\\\n",
      "trends in television comedy. 'Pythonesque' has entered the English lexicon as a result.\\\n",
      "In a 2005 UK poll to find The Comedian's Comedian, three of the six Pythons members were voted by fellow comedians\\\n",
      "and comedy insiders to be among the top 50 greatest comedians ever: Cleese at #2, Idle at #21, and Palin at #30.\")"
     ],
     "language": "python",
     "metadata": {},
     "outputs": [],
     "prompt_number": 56
    },
    {
     "cell_type": "markdown",
     "metadata": {},
     "source": [
      "For storing text, NLTK uses special text objects that are not just the simple string-objects you already know. Now let's create such a text object from the tokens."
     ]
    },
    {
     "cell_type": "code",
     "collapsed": false,
     "input": [
      "text = nltk.Text(tokens)\n",
      "# print out the type\n",
      "print(type(text))\n",
      "# print the object to check\n",
      "print(text)"
     ],
     "language": "python",
     "metadata": {},
     "outputs": [
      {
       "output_type": "stream",
       "stream": "stdout",
       "text": [
        "<class 'nltk.text.Text'>\n",
        "<Text: Monty Python ( sometimes known as The Pythons...>\n"
       ]
      }
     ],
     "prompt_number": 67
    },
    {
     "cell_type": "markdown",
     "metadata": {},
     "source": [
      "We can create a frequency distribution from this text object now, using NLTK's `FreqDist()` method."
     ]
    },
    {
     "cell_type": "code",
     "collapsed": false,
     "input": [
      "freqs = nltk.FreqDist(text)\n",
      "print(freqs)"
     ],
     "language": "python",
     "metadata": {},
     "outputs": [
      {
       "output_type": "stream",
       "stream": "stdout",
       "text": [
        "<FreqDist with 173 samples and 300 outcomes>\n"
       ]
      }
     ],
     "prompt_number": 58
    },
    {
     "cell_type": "markdown",
     "metadata": {},
     "source": [
      "The `FreqDist` object is similar to a dictionary containing keys and values. Keys represent words and values represent the counts.\n",
      "\n",
      "Let's now print the vocabulary:"
     ]
    },
    {
     "cell_type": "code",
     "collapsed": false,
     "input": [
      "vocabulary = freqs.keys()\n",
      "print(vocabulary)"
     ],
     "language": "python",
     "metadata": {},
     "outputs": [
      {
       "output_type": "stream",
       "stream": "stdout",
       "text": [
        "dict_keys(['Beatles', 'musical', 'A', 'to', 'Saturday', 'their', 'its', '.', 'BBC', ',', 'that', 'over', 'aided', 'and', 'six', 'made', 'Pythons', 'Chapman', 'Forty-five', 'Jones', 'The', 'createdtheir', 'performing', 'Eric', ')', '1969', 'performed', 'stream-of-consciousness', 'British', 'Circus', 'animation', 'known', 'cult', 'be', 'greatest', \"'\", 'pushed', '21', 'find', 'touring', 'work', 'recent', 'rulesof', '30', 'boundaries', 'which', 'what', 'poll', '5', 'between', 'larger', 'more', 'books', 'with', 'stage', 'early', 'in', 'discarding', 'as', 'years', 'UK', 'through', 'performers', 'approach', 'while', 'compared', '1974', '#', 'shows', 'style', 'something', 'several', 'top', 'aired', 'Palin', 'films', \"'Pythonesque\", 'was', 'for', 'spawning', 'form', 'from', 'of', 'series', 'entered', \"'s\", 'innovative', '(', 'it', 'Python', 'content', ':', 'Flying', 'the', 'written', 'numerous', 'music.Broadcast', 'Terry', 'allowed', 'Night', 'ever', 'an', 'who', 'scope', 'had', 'experiment', 'lexicon', 'television', 'Idle', 'by', 'show', 'English', 'writing', 'America', 'result.In', 'voted', 'influence', 'John', 'Monty', 'episodes', 'self-contained', 'absurdisttrends', '2005', 'October', '2', 'comedy', 'been', 'Michael', 'impact', 'creative', 'were', 'first', 'on', 'group', 'members', 'acceptable', 'among', 'at', 'both', 'Live', 'them', 'sometimes', 'structured', 'developed', 'control', 'but', 'comediansand', 'insiders', 'phenomenon', '50', 'North', 'three', 'a', 'sketch', 'responsible', 'Gilliam', 'Their', 'Comedian', 'fellow', 'Loosely', 'into', 'has', 'albums', 'coloured', 'Cleese', 'editions', 'surreal', 'team', 'conceived', 'four', 'comedians', 'apparent', 'Graham'])\n"
       ]
      }
     ],
     "prompt_number": 59
    },
    {
     "cell_type": "markdown",
     "metadata": {},
     "source": [
      "The counts are stored as values."
     ]
    },
    {
     "cell_type": "code",
     "collapsed": false,
     "input": [
      "print(freqs.values())"
     ],
     "language": "python",
     "metadata": {},
     "outputs": [
      {
       "output_type": "stream",
       "stream": "stdout",
       "text": [
        "dict_values([1, 1, 1, 5, 1, 1, 1, 8, 2, 21, 1, 1, 1, 9, 1, 1, 3, 1, 1, 1, 5, 1, 1, 1, 2, 2, 1, 1, 2, 2, 1, 1, 1, 1, 1, 2, 1, 1, 1, 1, 2, 1, 1, 1, 1, 1, 1, 1, 1, 1, 1, 1, 1, 2, 2, 1, 4, 1, 3, 1, 1, 1, 1, 1, 1, 1, 1, 3, 1, 1, 1, 1, 1, 1, 2, 1, 1, 2, 2, 1, 1, 2, 4, 2, 1, 4, 1, 2, 2, 3, 2, 1, 2, 10, 1, 1, 1, 2, 1, 1, 1, 1, 1, 1, 1, 1, 1, 3, 2, 4, 2, 1, 1, 1, 1, 1, 3, 1, 2, 1, 1, 1, 1, 1, 1, 8, 2, 1, 1, 1, 3, 1, 5, 2, 2, 1, 1, 3, 1, 1, 1, 1, 1, 1, 1, 1, 1, 1, 1, 1, 1, 1, 5, 2, 1, 2, 1, 2, 1, 1, 1, 4, 1, 1, 2, 1, 1, 1, 1, 1, 1, 1, 1])\n"
       ]
      }
     ],
     "prompt_number": 60
    },
    {
     "cell_type": "markdown",
     "metadata": {},
     "source": [
      "Let's now print them as a nice list next to each other."
     ]
    },
    {
     "cell_type": "code",
     "collapsed": false,
     "input": [
      "for word in vocabulary:\n",
      "    print(word + \" \"+str(freqs[word]))"
     ],
     "language": "python",
     "metadata": {},
     "outputs": [
      {
       "output_type": "stream",
       "stream": "stdout",
       "text": [
        "Beatles 1\n",
        "musical 1\n",
        "A 1\n",
        "to 5\n",
        "Saturday 1\n",
        "their 1\n",
        "its 1\n",
        ". 8\n",
        "BBC 2\n",
        ", 21\n",
        "that 1\n",
        "over 1\n",
        "aided 1\n",
        "and 9\n",
        "six 1\n",
        "made 1\n",
        "Pythons 3\n",
        "Chapman 1\n",
        "Forty-five 1\n",
        "Jones 1\n",
        "The 5\n",
        "createdtheir 1\n",
        "performing 1\n",
        "Eric 1\n",
        ") 2\n",
        "1969 2\n",
        "performed 1\n",
        "stream-of-consciousness 1\n",
        "British 2\n",
        "Circus 2\n",
        "animation 1\n",
        "known 1\n",
        "cult 1\n",
        "be 1\n",
        "greatest 1\n",
        "' 2\n",
        "pushed 1\n",
        "21 1\n",
        "find 1\n",
        "touring 1\n",
        "work 2\n",
        "recent 1\n",
        "rulesof 1\n",
        "30 1\n",
        "boundaries 1\n",
        "which 1\n",
        "what 1\n",
        "poll 1\n",
        "5 1\n",
        "between 1\n",
        "larger 1\n",
        "more 1\n",
        "books 1\n",
        "with 2\n",
        "stage 2\n",
        "early 1\n",
        "in 4\n",
        "discarding 1\n",
        "as 3\n",
        "years 1\n",
        "UK 1\n",
        "through 1\n",
        "performers 1\n",
        "approach 1\n",
        "while 1\n",
        "compared 1\n",
        "1974 1\n",
        "# 3\n",
        "shows 1\n",
        "style 1\n",
        "something 1\n",
        "several 1\n",
        "top 1\n",
        "aired 1\n",
        "Palin 2\n",
        "films 1\n",
        "'Pythonesque 1\n",
        "was 2\n",
        "for 2\n",
        "spawning 1\n",
        "form 1\n",
        "from 2\n",
        "of 4\n",
        "series 2\n",
        "entered 1\n",
        "'s 4\n",
        "innovative 1\n",
        "( 2\n",
        "it 2\n",
        "Python 3\n",
        "content 2\n",
        ": 1\n",
        "Flying 2\n",
        "the 10\n",
        "written 1\n",
        "numerous 1\n",
        "music.Broadcast 1\n",
        "Terry 2\n",
        "allowed 1\n",
        "Night 1\n",
        "ever 1\n",
        "an 1\n",
        "who 1\n",
        "scope 1\n",
        "had 1\n",
        "experiment 1\n",
        "lexicon 1\n",
        "television 3\n",
        "Idle 2\n",
        "by 4\n",
        "show 2\n",
        "English 1\n",
        "writing 1\n",
        "America 1\n",
        "result.In 1\n",
        "voted 1\n",
        "influence 3\n",
        "John 1\n",
        "Monty 2\n",
        "episodes 1\n",
        "self-contained 1\n",
        "absurdisttrends 1\n",
        "2005 1\n",
        "October 1\n",
        "2 1\n",
        "comedy 8\n",
        "been 2\n",
        "Michael 1\n",
        "impact 1\n",
        "creative 1\n",
        "were 3\n",
        "first 1\n",
        "on 5\n",
        "group 2\n",
        "members 2\n",
        "acceptable 1\n",
        "among 1\n",
        "at 3\n",
        "both 1\n",
        "Live 1\n",
        "them 1\n",
        "sometimes 1\n",
        "structured 1\n",
        "developed 1\n",
        "control 1\n",
        "but 1\n",
        "comediansand 1\n",
        "insiders 1\n",
        "phenomenon 1\n",
        "50 1\n",
        "North 1\n",
        "three 1\n",
        "a 5\n",
        "sketch 2\n",
        "responsible 1\n",
        "Gilliam 2\n",
        "Their 1\n",
        "Comedian 2\n",
        "fellow 1\n",
        "Loosely 1\n",
        "into 1\n",
        "has 4\n",
        "albums 1\n",
        "coloured 1\n",
        "Cleese 2\n",
        "editions 1\n",
        "surreal 1\n",
        "team 1\n",
        "conceived 1\n",
        "four 1\n",
        "comedians 1\n",
        "apparent 1\n",
        "Graham 1\n"
       ]
      }
     ],
     "prompt_number": 61
    },
    {
     "cell_type": "markdown",
     "metadata": {},
     "source": [
      "As you can see, several words occur multiple times (such as their/Their). We would like to make the text all lowercase for uniformity reasons."
     ]
    },
    {
     "cell_type": "code",
     "collapsed": false,
     "input": [
      "lo_text = [word.lower() for word in text]\n",
      "freql = nltk.FreqDist(lo_text)\n",
      "print(freql)"
     ],
     "language": "python",
     "metadata": {},
     "outputs": [
      {
       "output_type": "stream",
       "stream": "stdout",
       "text": [
        "<FreqDist with 170 samples and 300 outcomes>\n"
       ]
      }
     ],
     "prompt_number": 62
    },
    {
     "cell_type": "markdown",
     "metadata": {},
     "source": [
      "This is our new list:"
     ]
    },
    {
     "cell_type": "code",
     "collapsed": false,
     "input": [
      "for word in freql.keys():\n",
      "    print(word + \" \"+str(freql[word]))"
     ],
     "language": "python",
     "metadata": {},
     "outputs": [
      {
       "output_type": "stream",
       "stream": "stdout",
       "text": [
        ", 21\n",
        "was 2\n",
        "musical 1\n",
        "for 2\n",
        "spawning 1\n",
        "poll 1\n",
        "fellow 1\n",
        "comedians 1\n",
        "uk 1\n",
        "october 1\n",
        "from 2\n",
        "of 4\n",
        "series 2\n",
        "to 5\n",
        "'s 4\n",
        "innovative 1\n",
        "jones 1\n",
        "( 2\n",
        "their 2\n",
        "it 2\n",
        "flying 2\n",
        "terry 2\n",
        "content 2\n",
        "creative 1\n",
        "at 3\n",
        "its 1\n",
        ". 8\n",
        "the 15\n",
        "acceptable 1\n",
        "written 1\n",
        "numerous 1\n",
        "performing 1\n",
        "that 1\n",
        "gilliam 2\n",
        "over 1\n",
        "aided 1\n",
        "stage 2\n",
        "allowed 1\n",
        "six 1\n",
        "made 1\n",
        "responsible 1\n",
        "music.broadcast 1\n",
        "who 1\n",
        "scope 1\n",
        "john 1\n",
        "had 1\n",
        "experiment 1\n",
        "early 1\n",
        "createdtheir 1\n",
        "sketch 2\n",
        "by 4\n",
        "animation 1\n",
        "top 1\n",
        "'pythonesque 1\n",
        "1969 2\n",
        "performed 1\n",
        "form 1\n",
        "which 1\n",
        "books 1\n",
        ") 2\n",
        "voted 1\n",
        "among 1\n",
        "influence 3\n",
        "coloured 1\n",
        "python 3\n",
        "cult 1\n",
        "self-contained 1\n",
        "night 1\n",
        "30 1\n",
        "ever 1\n",
        "comedian 2\n",
        "performers 1\n",
        "absurdisttrends 1\n",
        "writing 1\n",
        "' 2\n",
        "albums 1\n",
        "british 2\n",
        "loosely 1\n",
        "2005 1\n",
        "21 1\n",
        ": 1\n",
        "find 1\n",
        "north 1\n",
        "an 1\n",
        "comedy 8\n",
        "work 2\n",
        "been 2\n",
        "recent 1\n",
        "chapman 1\n",
        "rulesof 1\n",
        "entered 1\n",
        "boundaries 1\n",
        "style 1\n",
        "impact 1\n",
        "bbc 2\n",
        "television 3\n",
        "beatles 1\n",
        "were 3\n",
        "america 1\n",
        "first 1\n",
        "on 5\n",
        "group 2\n",
        "palin 2\n",
        "pythons 3\n",
        "5 1\n",
        "approach 1\n",
        "editions 1\n",
        "graham 1\n",
        "both 1\n",
        "larger 1\n",
        "more 1\n",
        "stream-of-consciousness 1\n",
        "with 2\n",
        "sometimes 1\n",
        "and 9\n",
        "structured 1\n",
        "but 1\n",
        "control 1\n",
        "in 4\n",
        "what 1\n",
        "developed 1\n",
        "live 1\n",
        "three 1\n",
        "touring 1\n",
        "lexicon 1\n",
        "comediansand 1\n",
        "insiders 1\n",
        "phenomenon 1\n",
        "monty 2\n",
        "50 1\n",
        "as 3\n",
        "years 1\n",
        "discarding 1\n",
        "a 6\n",
        "through 1\n",
        "eric 1\n",
        "compared 1\n",
        "shows 1\n",
        "members 2\n",
        "aired 1\n",
        "greatest 1\n",
        "circus 2\n",
        "episodes 1\n",
        "michael 1\n",
        "be 1\n",
        "result.in 1\n",
        "forty-five 1\n",
        "show 2\n",
        "english 1\n",
        "them 1\n",
        "2 1\n",
        "into 1\n",
        "has 4\n",
        "1974 1\n",
        "# 3\n",
        "known 1\n",
        "between 1\n",
        "cleese 2\n",
        "idle 2\n",
        "something 1\n",
        "several 1\n",
        "surreal 1\n",
        "team 1\n",
        "conceived 1\n",
        "four 1\n",
        "saturday 1\n",
        "while 1\n",
        "films 1\n",
        "apparent 1\n",
        "pushed 1\n"
       ]
      }
     ],
     "prompt_number": 63
    },
    {
     "cell_type": "heading",
     "level": 6,
     "metadata": {},
     "source": [
      "Quiz!"
     ]
    },
    {
     "cell_type": "markdown",
     "metadata": {},
     "source": [
      "Find out how often the word 'python' occurs in the frequency list `freql`."
     ]
    },
    {
     "cell_type": "code",
     "collapsed": false,
     "input": [
      "#insert your code here\n"
     ],
     "language": "python",
     "metadata": {},
     "outputs": []
    },
    {
     "cell_type": "heading",
     "level": 2,
     "metadata": {},
     "source": [
      "4. Filtering stop words"
     ]
    },
    {
     "cell_type": "markdown",
     "metadata": {},
     "source": [
      "\"Stop words\" is the linguistic term for words that occur very often within a language, but have no semantic meaning on their own, such as 'the' or 'and'. Since they do not contribute to the 'substance' of a text, we sometimes need to filter them out prior to doing our calculations.\n",
      "\n",
      "NLTK has built-in lists of stop words for several languages. Let's just have look at the English stop word list:"
     ]
    },
    {
     "cell_type": "code",
     "collapsed": false,
     "input": [
      "from nltk.corpus import stopwords\n",
      "english_stopwords = stopwords.words(\"english\")\n",
      "print(english_stopwords)"
     ],
     "language": "python",
     "metadata": {},
     "outputs": [
      {
       "output_type": "stream",
       "stream": "stdout",
       "text": [
        "['i', 'me', 'my', 'myself', 'we', 'our', 'ours', 'ourselves', 'you', 'your', 'yours', 'yourself', 'yourselves', 'he', 'him', 'his', 'himself', 'she', 'her', 'hers', 'herself', 'it', 'its', 'itself', 'they', 'them', 'their', 'theirs', 'themselves', 'what', 'which', 'who', 'whom', 'this', 'that', 'these', 'those', 'am', 'is', 'are', 'was', 'were', 'be', 'been', 'being', 'have', 'has', 'had', 'having', 'do', 'does', 'did', 'doing', 'a', 'an', 'the', 'and', 'but', 'if', 'or', 'because', 'as', 'until', 'while', 'of', 'at', 'by', 'for', 'with', 'about', 'against', 'between', 'into', 'through', 'during', 'before', 'after', 'above', 'below', 'to', 'from', 'up', 'down', 'in', 'out', 'on', 'off', 'over', 'under', 'again', 'further', 'then', 'once', 'here', 'there', 'when', 'where', 'why', 'how', 'all', 'any', 'both', 'each', 'few', 'more', 'most', 'other', 'some', 'such', 'no', 'nor', 'not', 'only', 'own', 'same', 'so', 'than', 'too', 'very', 's', 't', 'can', 'will', 'just', 'don', 'should', 'now']\n"
       ]
      }
     ],
     "prompt_number": 64
    },
    {
     "cell_type": "heading",
     "level": 6,
     "metadata": {},
     "source": [
      "Quiz!"
     ]
    },
    {
     "cell_type": "markdown",
     "metadata": {},
     "source": [
      "Print out a list of turkish stop words."
     ]
    },
    {
     "cell_type": "code",
     "collapsed": false,
     "input": [
      "# insert your code here\n",
      "# ...\n",
      "\n",
      "print(turkish_stopwords)"
     ],
     "language": "python",
     "metadata": {},
     "outputs": []
    },
    {
     "cell_type": "markdown",
     "metadata": {},
     "source": [
      "Now let's filter out the stop words from the Monty Python text and create a new frequency distribution."
     ]
    },
    {
     "cell_type": "code",
     "collapsed": false,
     "input": [
      "text3 = [word for word in lo_text if word not in english_stopwords]\n",
      "freq3 = nltk.FreqDist(text3)\n",
      "print(freq3.keys())\n",
      "print()\n",
      "for word in freq3.keys():\n",
      "    print(word + \" \"+str(freq3[word]))"
     ],
     "language": "python",
     "metadata": {},
     "outputs": [
      {
       "output_type": "stream",
       "stream": "stdout",
       "text": [
        "dict_keys(['numerous', 'musical', 'spawning', 'fellow', 'comedians', 'uk', 'october', 'books', 'series', 'entered', \"'s\", 'innovative', '(', 'poll', 'flying', 'terry', 'content', 'creative', 'episodes', '.', 'written', ',', 'gilliam', 'aided', 'allowed', 'six', 'made', 'ever', 'music.broadcast', 'scope', 'john', 'experiment', 'early', 'createdtheir', 'performing', '5', 'top', '1969', 'performed', 'form', 'animation', ')', 'voted', 'influence', 'lexicon', 'cleese', 'english', 'python', 'cult', 'self-contained', 'night', '#', 'absurdisttrends', 'writing', \"'\", 'albums', 'british', 'loosely', '2005', '21', 'find', 'north', 'control', 'comedy', 'work', 'recent', 'chapman', 'rulesof', '30', 'boundaries', 'impact', 'bbc', 'beatles', 'america', 'first', 'group', 'palin', 'pythons', 'acceptable', 'among', 'editions', 'graham', 'larger', 'stream-of-consciousness', 'sometimes', 'stage', 'structured', 'several', \"'pythonesque\", 'developed', 'live', 'three', 'touring', 'discarding', 'comediansand', 'insiders', 'phenomenon', 'monty', '50', 'television', 'years', 'members', 'known', ':', 'eric', 'sketch', 'shows', 'approach', 'aired', 'greatest', 'circus', 'jones', 'michael', 'compared', 'result.in', 'forty-five', 'show', '2', 'comedian', '1974', 'coloured', 'performers', 'style', 'idle', 'something', 'responsible', 'surreal', 'team', 'conceived', 'four', 'saturday', 'films', 'apparent', 'pushed'])\n",
        "\n",
        "numerous 1\n",
        "musical 1\n",
        "spawning 1\n",
        "fellow 1\n",
        "comedians 1\n",
        "uk 1\n",
        "october 1\n",
        "books 1\n",
        "series 2\n",
        "entered 1\n",
        "'s 4\n",
        "innovative 1\n",
        "( 2\n",
        "poll 1\n",
        "flying 2\n",
        "terry 2\n",
        "content 2\n",
        "creative 1\n",
        "episodes 1\n",
        ". 8\n",
        "written 1\n",
        ", 21\n",
        "gilliam 2\n",
        "aided 1\n",
        "allowed 1\n",
        "six 1\n",
        "made 1\n",
        "ever 1\n",
        "music.broadcast 1\n",
        "scope 1\n",
        "john 1\n",
        "experiment 1\n",
        "early 1\n",
        "createdtheir 1\n",
        "performing 1\n",
        "5 1\n",
        "top 1\n",
        "1969 2\n",
        "performed 1\n",
        "form 1\n",
        "animation 1\n",
        ") 2\n",
        "voted 1\n",
        "influence 3\n",
        "lexicon 1\n",
        "cleese 2\n",
        "english 1\n",
        "python 3\n",
        "cult 1\n",
        "self-contained 1\n",
        "night 1\n",
        "# 3\n",
        "absurdisttrends 1\n",
        "writing 1\n",
        "' 2\n",
        "albums 1\n",
        "british 2\n",
        "loosely 1\n",
        "2005 1\n",
        "21 1\n",
        "find 1\n",
        "north 1\n",
        "control 1\n",
        "comedy 8\n",
        "work 2\n",
        "recent 1\n",
        "chapman 1\n",
        "rulesof 1\n",
        "30 1\n",
        "boundaries 1\n",
        "impact 1\n",
        "bbc 2\n",
        "beatles 1\n",
        "america 1\n",
        "first 1\n",
        "group 2\n",
        "palin 2\n",
        "pythons 3\n",
        "acceptable 1\n",
        "among 1\n",
        "editions 1\n",
        "graham 1\n",
        "larger 1\n",
        "stream-of-consciousness 1\n",
        "sometimes 1\n",
        "stage 2\n",
        "structured 1\n",
        "several 1\n",
        "'pythonesque 1\n",
        "developed 1\n",
        "live 1\n",
        "three 1\n",
        "touring 1\n",
        "discarding 1\n",
        "comediansand 1\n",
        "insiders 1\n",
        "phenomenon 1\n",
        "monty 2\n",
        "50 1\n",
        "television 3\n",
        "years 1\n",
        "members 2\n",
        "known 1\n",
        ": 1\n",
        "eric 1\n",
        "sketch 2\n",
        "shows 1\n",
        "approach 1\n",
        "aired 1\n",
        "greatest 1\n",
        "circus 2\n",
        "jones 1\n",
        "michael 1\n",
        "compared 1\n",
        "result.in 1\n",
        "forty-five 1\n",
        "show 2\n",
        "2 1\n",
        "comedian 2\n",
        "1974 1\n",
        "coloured 1\n",
        "performers 1\n",
        "style 1\n",
        "idle 2\n",
        "something 1\n",
        "responsible 1\n",
        "surreal 1\n",
        "team 1\n",
        "conceived 1\n",
        "four 1\n",
        "saturday 1\n",
        "films 1\n",
        "apparent 1\n",
        "pushed 1\n"
       ]
      }
     ],
     "prompt_number": 65
    },
    {
     "cell_type": "heading",
     "level": 2,
     "metadata": {},
     "source": [
      "5. Cooccurrences"
     ]
    },
    {
     "cell_type": "markdown",
     "metadata": {},
     "source": [
      "Cooccurrences (also called collocations) are sequences of words that occur together unusually often. NLTK has a built-in method for finding them.\n",
      "\n",
      "Let's try it out using our short Monty Python text:"
     ]
    },
    {
     "cell_type": "code",
     "collapsed": false,
     "input": [
      "colloc = text.collocations()\n",
      "print(colloc)"
     ],
     "language": "python",
     "metadata": {},
     "outputs": [
      {
       "output_type": "stream",
       "stream": "stdout",
       "text": [
        "Flying Circus; Monty Python; television comedy\n",
        "None\n"
       ]
      }
     ],
     "prompt_number": 66
    },
    {
     "cell_type": "markdown",
     "metadata": {},
     "source": [
      "Looks valid. (Note: If applied to larger amounts of text, the results are usually a little bit more spectacular. ;) )\n",
      "\n",
      "You can try this out at home using your new NLTK knowledge. Have fun!\n",
      "\n",
      "\n",
      "*~ The end. ~*"
     ]
    },
    {
     "cell_type": "raw",
     "metadata": {},
     "source": []
    },
    {
     "cell_type": "raw",
     "metadata": {},
     "source": []
    },
    {
     "cell_type": "code",
     "collapsed": false,
     "input": [],
     "language": "python",
     "metadata": {},
     "outputs": []
    }
   ],
   "metadata": {}
  }
 ]
}